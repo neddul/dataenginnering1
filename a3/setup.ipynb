{
 "cells": [
  {
   "cell_type": "code",
   "execution_count": 12,
   "id": "e00a34c7",
   "metadata": {},
   "outputs": [],
   "source": [
    "from pyspark.sql import SparkSession\n",
    "\n",
    "spark_session = SparkSession.builder\\\n",
    ".master(\"spark://192.168.2.70:7077\") \\\n",
    ".appName(\"ludvigwesterholm_firstpart\")\\\n",
    ".config(\"spark.dynamicAllocation.enabled\", True)\\\n",
    ".config(\"spark.dynamicAllocation.shuffleTracking.enabled\",True)\\\n",
    ".config(\"spark.shuffle.service.enabled\", True)\\\n",
    ".config(\"spark.dynamicAllocation.executorIdleTimeout\",\"30s\")\\\n",
    ".config(\"spark.cores.max\", 4)\\\n",
    ".getOrCreate()"
   ]
  },
  {
   "cell_type": "code",
   "execution_count": 29,
   "id": "a11d07cc",
   "metadata": {},
   "outputs": [
    {
     "name": "stderr",
     "output_type": "stream",
     "text": [
      "[Stage 7:>                                                          (0 + 2) / 2]\r"
     ]
    },
    {
     "name": "stdout",
     "output_type": "stream",
     "text": [
      "166666616666670000000\n"
     ]
    },
    {
     "name": "stderr",
     "output_type": "stream",
     "text": [
      "\r",
      "                                                                                \r"
     ]
    }
   ],
   "source": [
    "def add1(a, b):\n",
    "    # associative and commutative!\n",
    "    return a + b\n",
    "\n",
    "rdd = spark_session.sparkContext.parallelize(range(10**7))\n",
    "\n",
    "result = rdd.filter(lambda x: x % 2 == 0)\\\n",
    "    .map(lambda x: x ** 2)\\\n",
    "    .reduce(add1)\n",
    "\n",
    "print(result)"
   ]
  },
  {
   "cell_type": "code",
   "execution_count": 33,
   "id": "3aac3924",
   "metadata": {},
   "outputs": [
    {
     "name": "stderr",
     "output_type": "stream",
     "text": [
      "                                                                                \r"
     ]
    },
    {
     "name": "stdout",
     "output_type": "stream",
     "text": [
      "Number of Swedish lines: 1862234\n"
     ]
    },
    {
     "name": "stderr",
     "output_type": "stream",
     "text": [
      "[Stage 13:=============================>                            (1 + 1) / 2]\r"
     ]
    },
    {
     "name": "stdout",
     "output_type": "stream",
     "text": [
      "Number of English lines: 1862234\n"
     ]
    },
    {
     "name": "stderr",
     "output_type": "stream",
     "text": [
      "\r",
      "                                                                                \r"
     ]
    }
   ],
   "source": [
    "from operator import add\n",
    "sc = spark_session.sparkContext\n",
    "\n",
    "swetext = sc.textFile(\"hdfs://192.168.2.70:9000/europarl/europarl-v7.sv-en.sv\")\n",
    "engtext = sc.textFile(\"hdfs://192.168.2.70:9000/europarl/europarl-v7.sv-en.en\")\n",
    "\n",
    "print(f\"Number of Swedish lines: {swetext.count()}\")\n",
    "print(f\"Number of English lines: {engtext.count()}\")"
   ]
  },
  {
   "cell_type": "code",
   "execution_count": 34,
   "id": "339db460",
   "metadata": {},
   "outputs": [
    {
     "name": "stdout",
     "output_type": "stream",
     "text": [
      "Number of Swedish partitions: 3\n",
      "Number of English partitions: 2\n"
     ]
    }
   ],
   "source": [
    "print(f\"Number of Swedish partitions: {swetext.getNumPartitions()}\")\n",
    "print(f\"Number of English partitions: {engtext.getNumPartitions()}\")"
   ]
  },
  {
   "cell_type": "code",
   "execution_count": 40,
   "id": "83118f7c",
   "metadata": {},
   "outputs": [
    {
     "name": "stderr",
     "output_type": "stream",
     "text": [
      "                                                                                \r"
     ]
    },
    {
     "name": "stdout",
     "output_type": "stream",
     "text": [
      "['återupptagande', 'av', 'sessionen']\n"
     ]
    },
    {
     "name": "stderr",
     "output_type": "stream",
     "text": [
      "                                                                                \r"
     ]
    },
    {
     "name": "stdout",
     "output_type": "stream",
     "text": [
      "Återupptagande av sessionen\n"
     ]
    },
    {
     "name": "stderr",
     "output_type": "stream",
     "text": [
      "                                                                                \r"
     ]
    },
    {
     "data": {
      "text/plain": [
       "pyspark.rdd.PipelinedRDD"
      ]
     },
     "execution_count": 40,
     "metadata": {},
     "output_type": "execute_result"
    }
   ],
   "source": [
    "def rdd_lower(rdd):\n",
    "    return rdd.map(lambda x: x.lower())\n",
    "\n",
    "def rdd_split(rdd, split_token):\n",
    "    return rdd.map(lambda x: x.split(split_token))\n",
    "\n",
    "\n",
    "swetext_lower = rdd_lower(swetext)\n",
    "swetext_split = rdd_split(swetext_lower, \" \")\n",
    "\n",
    "print(swetext_split.first())\n",
    "print(swetext.first())\n",
    "\n",
    "swetext_split.count()"
   ]
  }
 ],
 "metadata": {
  "kernelspec": {
   "display_name": "Python 3 (ipykernel)",
   "language": "python",
   "name": "python3"
  },
  "language_info": {
   "codemirror_mode": {
    "name": "ipython",
    "version": 3
   },
   "file_extension": ".py",
   "mimetype": "text/x-python",
   "name": "python",
   "nbconvert_exporter": "python",
   "pygments_lexer": "ipython3",
   "version": "3.10.6"
  }
 },
 "nbformat": 4,
 "nbformat_minor": 5
}
