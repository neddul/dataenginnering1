{
 "cells": [
  {
   "cell_type": "code",
   "execution_count": 76,
   "id": "49da0fdd",
   "metadata": {},
   "outputs": [],
   "source": [
    "from pyspark.sql import SparkSession\n",
    "\n",
    "spark_session = SparkSession.builder\\\n",
    ".master(\"spark://192.168.2.70:7077\") \\\n",
    ".appName(\"ludvigwesterholm_B\")\\\n",
    ".config(\"spark.dynamicAllocation.enabled\", True)\\\n",
    ".config(\"spark.dynamicAllocation.shuffleTracking.enabled\",True)\\\n",
    ".config(\"spark.shuffle.service.enabled\", True)\\\n",
    ".config(\"spark.dynamicAllocation.executorIdleTimeout\",\"30s\")\\\n",
    ".config(\"spark.cores.max\", 4)\\\n",
    ".getOrCreate()"
   ]
  },
  {
   "cell_type": "code",
   "execution_count": 77,
   "id": "4ef4c139",
   "metadata": {},
   "outputs": [
    {
     "name": "stderr",
     "output_type": "stream",
     "text": [
      "\r",
      "                                                                                \r"
     ]
    },
    {
     "name": "stdout",
     "output_type": "stream",
     "text": [
      "+-------------+--------------------+----------+--------+-----------+--------------+-----------------+----+----+----------+-----+--------------------+-----+------+--------------+--------------------+-----------+---------+---------+------------------+-----------------+--------------------+\n",
      "|          _c0|                 _c1|       _c2|     _c3|        _c4|           _c5|              _c6| _c7| _c8|       _c9| _c10|                _c11| _c12|  _c13|          _c14|                _c15|       _c16|     _c17|     _c18|              _c19|             _c20|                _c21|\n",
      "+-------------+--------------------+----------+--------+-----------+--------------+-----------------+----+----+----------+-----+--------------------+-----+------+--------------+--------------------+-----------+---------+---------+------------------+-----------------+--------------------+\n",
      "|Ticket number|          Issue Date|Issue time|Meter Id|Marked Time|RP State Plate|Plate Expiry Date| VIN|Make|Body Style|Color|            Location|Route|Agency|Violation code|Violation Descrip...|Fine amount| Latitude|Longitude|Agency Description|Color Description|Body Style Descri...|\n",
      "|   1103341116|2015-12-21T00:00:...|      1251|    null|       null|            CA|           200304|null|HOND|        PA|   GY|     13147 WELBY WAY|01521|     1|        4000A1|  NO EVIDENCE OF REG|         50|    99999|    99999|              null|             null|                null|\n",
      "|   1103700150|2015-12-21T00:00:...|      1435|    null|       null|            CA|           201512|null| GMC|        VN|   WH|       525 S MAIN ST| 1C51|     1|        4000A1|  NO EVIDENCE OF REG|         50|    99999|    99999|              null|             null|                null|\n",
      "|   1104803000|2015-12-21T00:00:...|      2055|    null|       null|            CA|           201503|null|NISS|        PA|   BK|       200 WORLD WAY|  2R2|     2|          8939|          WHITE CURB|         58|6439997.9|1802686.4|              null|             null|                null|\n",
      "|   1104820732|2015-12-26T00:00:...|      1515|    null|       null|            CA|             null|null|ACUR|        PA|   WH|       100 WORLD WAY| 2F11|     2|           000|              17104h|       null|6440041.1|1802686.2|              null|             null|                null|\n",
      "|   1105461453|2015-09-15T00:00:...|       115|    null|       null|            CA|           200316|null|CHEV|        PA|   BK|  GEORGIA ST/OLYMPIC|1FB70|     1|         8069A|NO STOPPING/STANDING|         93|    99999|    99999|              null|             null|                null|\n",
      "|   1106226590|2015-09-15T00:00:...|        19|    null|       null|            CA|           201507|null|CHEV|        VN|   GY|  SAN PEDRO S/O BOYD|1A35W|     1|        4000A1|  NO EVIDENCE OF REG|         50|    99999|    99999|              null|             null|                null|\n",
      "|   1106500452|2015-12-17T00:00:...|      1710|    null|       null|            CA|           201605|null|MAZD|        PA|   BL|     SUNSET/ALVARADO|00217|     1|          8070|PARK IN GRID LOCK ZN|        163|    99999|    99999|              null|             null|                null|\n",
      "|   1106500463|2015-12-17T00:00:...|      1710|    null|       null|            CA|           201602|null|TOYO|        PA|   BK|     SUNSET/ALVARADO|00217|     1|          8070|PARK IN GRID LOCK ZN|        163|    99999|    99999|              null|             null|                null|\n",
      "|   1106506402|2015-12-22T00:00:...|       945|    null|       null|            CA|           201605|null|CHEV|        PA|   BR|      721 S WESTLAKE| 2A75|     1|        8069AA|    NO STOP/STAND AM|         93|    99999|    99999|              null|             null|                null|\n",
      "|   1106506413|2015-12-22T00:00:...|      1100|    null|       null|            CA|           201701|null|NISS|        PA|   SI|     1159 HUNTLEY DR| 2A75|     1|        8069AA|    NO STOP/STAND AM|         93|    99999|    99999|              null|             null|                null|\n",
      "|   1106506424|2015-12-22T00:00:...|      1100|    null|       null|            CA|           201511|null|FORD|        TR|   WH|     1159 HUNTLEY DR| 2A75|     1|        8069AA|    NO STOP/STAND AM|         93|    99999|    99999|              null|             null|                null|\n",
      "|   1106506435|2015-12-22T00:00:...|      1105|    null|       null|            CA|           201701|null|CHRY|        PA|   GO|     1159 HUNTLEY DR| 2A75|     1|        8069AA|    NO STOP/STAND AM|         93|    99999|    99999|              null|             null|                null|\n",
      "|   1106506446|2015-12-22T00:00:...|      1110|    null|       null|            CA|           201511|null| BMW|        PA|   BK|      1200 W MIRAMAR| 2A75|     1|        4000A1|  NO EVIDENCE OF REG|         50|    99999|    99999|              null|             null|                null|\n",
      "|   1106549754|2015-12-15T00:00:...|       825|    null|       null|            CA|           201607|null|PTRB|        TR|   BK|           4TH/STATE| CM96|     1|         8069A|NO STOPPING/STANDING|         93|    99999|    99999|              null|             null|                null|\n",
      "|   1107179581|2015-12-27T00:00:...|      1055|    null|       null|            CA|           201605|null|TOYO|        PA|   BK|3100 N HOLLYRIDGE DR| null|    54|         8058L|        PREF PARKING|         68|    99999|    99999|              null|             null|                null|\n",
      "|   1107179592|2015-12-27T00:00:...|      1200|    null|       null|            CA|           201602|null|MBNZ|        PA|   BK|   3115 N BERENDO DR| null|    54|         8058L|        PREF PARKING|         68|    99999|    99999|              null|             null|                null|\n",
      "|   1107179603|2015-12-27T00:00:...|      1400|    null|       null|            CA|           201611|null|NISS|        PA|   WH| 3100 N BEACHWOOD DR| null|    54|         8058L|        PREF PARKING|         68|    99999|    99999|              null|             null|                null|\n",
      "|   1107539823|2015-09-16T00:00:...|      2120|    null|       null|            CA|           201502|null|NISS|        PA| null|      BLAINE/11TH PL|1FB95|     1|        4000A1|  NO EVIDENCE OF REG|         50|    99999|    99999|              null|             null|                null|\n",
      "|   1107539834|2015-09-16T00:00:...|      1045|    null|       null|            CA|             null|null|CHEV|        PA|   BK|  1246 S FIGUEROA ST| 1L20|     1|        8069AP|    NO STOP/STAND PM|         93|    99999|    99999|              null|             null|                null|\n",
      "+-------------+--------------------+----------+--------+-----------+--------------+-----------------+----+----+----------+-----+--------------------+-----+------+--------------+--------------------+-----------+---------+---------+------------------+-----------------+--------------------+\n",
      "only showing top 20 rows\n",
      "\n"
     ]
    }
   ],
   "source": [
    "#B.1 reading the csv\n",
    "df = spark_session.read.csv(\"hdfs://192.168.2.70:9000/parking-citations.csv\")\n",
    "df.show()"
   ]
  },
  {
   "cell_type": "code",
   "execution_count": 78,
   "id": "4d4f48f6",
   "metadata": {},
   "outputs": [
    {
     "name": "stdout",
     "output_type": "stream",
     "text": [
      "root\n",
      " |-- _c0: string (nullable = true)\n",
      " |-- _c1: string (nullable = true)\n",
      " |-- _c2: string (nullable = true)\n",
      " |-- _c3: string (nullable = true)\n",
      " |-- _c4: string (nullable = true)\n",
      " |-- _c5: string (nullable = true)\n",
      " |-- _c6: string (nullable = true)\n",
      " |-- _c7: string (nullable = true)\n",
      " |-- _c8: string (nullable = true)\n",
      " |-- _c9: string (nullable = true)\n",
      " |-- _c10: string (nullable = true)\n",
      " |-- _c11: string (nullable = true)\n",
      " |-- _c12: string (nullable = true)\n",
      " |-- _c13: string (nullable = true)\n",
      " |-- _c14: string (nullable = true)\n",
      " |-- _c15: string (nullable = true)\n",
      " |-- _c16: string (nullable = true)\n",
      " |-- _c17: string (nullable = true)\n",
      " |-- _c18: string (nullable = true)\n",
      " |-- _c19: string (nullable = true)\n",
      " |-- _c20: string (nullable = true)\n",
      " |-- _c21: string (nullable = true)\n",
      "\n"
     ]
    }
   ],
   "source": [
    "#B.2 printing the schema\n",
    "df.printSchema()"
   ]
  },
  {
   "cell_type": "code",
   "execution_count": 79,
   "id": "17858a47",
   "metadata": {},
   "outputs": [
    {
     "name": "stderr",
     "output_type": "stream",
     "text": [
      "                                                                                \r"
     ]
    },
    {
     "data": {
      "text/plain": [
       "13077725"
      ]
     },
     "execution_count": 79,
     "metadata": {},
     "output_type": "execute_result"
    }
   ],
   "source": [
    "#B.3 coutning number of rows\n",
    "df.count()"
   ]
  },
  {
   "cell_type": "code",
   "execution_count": 80,
   "id": "58616fc9",
   "metadata": {},
   "outputs": [
    {
     "data": {
      "text/plain": [
       "16"
      ]
     },
     "execution_count": 80,
     "metadata": {},
     "output_type": "execute_result"
    }
   ],
   "source": [
    "#B.4 counting number of partitions\n",
    "df.rdd.getNumPartitions()"
   ]
  },
  {
   "cell_type": "code",
   "execution_count": 81,
   "id": "3b5c9b16",
   "metadata": {},
   "outputs": [],
   "source": [
    "#B.5 dropping columns\n",
    "df = df.drop('_c7', '_c17', '_c18')"
   ]
  },
  {
   "cell_type": "code",
   "execution_count": 99,
   "id": "03bf1a50",
   "metadata": {},
   "outputs": [
    {
     "name": "stderr",
     "output_type": "stream",
     "text": [
      "                                                                                \r"
     ]
    },
    {
     "data": {
      "text/plain": [
       "626"
      ]
     },
     "execution_count": 99,
     "metadata": {},
     "output_type": "execute_result"
    }
   ],
   "source": [
    "#B.6 finding biggest fine\n",
    "from pyspark.sql.types import FloatType\n",
    "\n",
    "df = df.withColumn(\"fines\", df[\"_c16\"].cast(FloatType()))\n",
    "\n",
    "fines = df.select(\"fines\")\n",
    "\n",
    "fines = fines.dropna()\n",
    "\n",
    "max_fine = fines.rdd.max()[0]\n",
    "\n",
    "df.where(df[\"fines\"]==max_fine).count()"
   ]
  },
  {
   "cell_type": "code",
   "execution_count": 116,
   "id": "cc14b005",
   "metadata": {},
   "outputs": [
    {
     "name": "stderr",
     "output_type": "stream",
     "text": [
      "                                                                                \r"
     ]
    }
   ],
   "source": [
    "#B.7 \n",
    "makes = df.select(\"_c8\")\n",
    "makes = makes.dropna()\n",
    "\n",
    "my_dict = makes.rdd.countByKey()"
   ]
  },
  {
   "cell_type": "code",
   "execution_count": 122,
   "id": "5934b22a",
   "metadata": {},
   "outputs": [
    {
     "name": "stdout",
     "output_type": "stream",
     "text": [
      "Make: TOYT \t Frequency: 2150768\n",
      "Make: HOND \t Frequency: 1479996\n",
      "Make: FORD \t Frequency: 1116235\n",
      "Make: NISS \t Frequency: 945133\n",
      "Make: CHEV \t Frequency: 892676\n",
      "Make: BMW \t Frequency: 603092\n",
      "Make: MERZ \t Frequency: 543298\n",
      "Make: VOLK \t Frequency: 432030\n",
      "Make: HYUN \t Frequency: 404917\n",
      "Make: DODG \t Frequency: 391686\n",
      "Make: LEXS \t Frequency: 368420\n",
      "Make: KIA \t Frequency: 328155\n",
      "Make: JEEP \t Frequency: 316300\n",
      "Make: AUDI \t Frequency: 255395\n",
      "Make: MAZD \t Frequency: 242344\n",
      "Make: OTHR \t Frequency: 205546\n",
      "Make: GMC \t Frequency: 184889\n",
      "Make: INFI \t Frequency: 174315\n",
      "Make: CHRY \t Frequency: 159948\n",
      "Make: SUBA \t Frequency: 154640\n"
     ]
    }
   ],
   "source": [
    "sorted_dict = dict(sorted(my_dict.items(), key=lambda x: x[1], reverse=True))\n",
    "dict_keys = list(sorted_dict.keys())\n",
    "\n",
    "for x in range(20):\n",
    "    print(f\"Make: {dict_keys[x]} \\t Frequency: {sorted_dict[dict_keys[x]]}\")"
   ]
  },
  {
   "cell_type": "code",
   "execution_count": null,
   "id": "456b528b",
   "metadata": {},
   "outputs": [],
   "source": []
  }
 ],
 "metadata": {
  "kernelspec": {
   "display_name": "Python 3 (ipykernel)",
   "language": "python",
   "name": "python3"
  },
  "language_info": {
   "codemirror_mode": {
    "name": "ipython",
    "version": 3
   },
   "file_extension": ".py",
   "mimetype": "text/x-python",
   "name": "python",
   "nbconvert_exporter": "python",
   "pygments_lexer": "ipython3",
   "version": "3.10.6"
  }
 },
 "nbformat": 4,
 "nbformat_minor": 5
}
